{
 "cells": [
  {
   "cell_type": "code",
   "execution_count": 1,
   "metadata": {},
   "outputs": [
    {
     "data": {
      "text/plain": [
       "ECow"
      ]
     },
     "execution_count": 1,
     "metadata": {},
     "output_type": "execute_result"
    }
   ],
   "source": [
    "include(\"ecow.jl\")"
   ]
  },
  {
   "cell_type": "code",
   "execution_count": 71,
   "metadata": {},
   "outputs": [
    {
     "data": {
      "text/plain": [
       "Plots.GRBackend()"
      ]
     },
     "execution_count": 71,
     "metadata": {},
     "output_type": "execute_result"
    }
   ],
   "source": [
    "using Plots\n",
    "const mm = Plots.mm\n",
    "fntsm = Plots.font(\"times\", 12)\n",
    "fntlg = Plots.font(\"times\", 14)\n",
    "default(\n",
    "    titlefont=fntlg,\n",
    "    guidefont=fntlg,\n",
    "    tickfont=fntsm,\n",
    "    legendfont=fntsm,\n",
    "    left_margin=3mm,\n",
    "    bottom_margin=10mm,\n",
    "    top_margin=0mm,\n",
    "    right_margin=0mm,\n",
    "    size=(500,300),\n",
    "    xlabel=\"Days of the Season\\n\",\n",
    "    label=\"\",\n",
    "    w=3,\n",
    "    c=\"#00467F\"\n",
    ")\n",
    "gr()"
   ]
  },
  {
   "cell_type": "code",
   "execution_count": 77,
   "metadata": {},
   "outputs": [
    {
     "name": "stdout",
     "output_type": "stream",
     "text": [
      "Total Milk Production: 323.3706873358398\n",
      "Total Herbage Consumption: 4154.016005819228\n",
      "Total PKE Consumption: 730.0\n"
     ]
    }
   ],
   "source": [
    "cow = ECow.Cow()\n",
    "herbage = ECow.FoodOffer(ECow.Pasture(), 35.0)\n",
    "supplement = ECow.FoodOffer(ECow.PKE(), 2.0)\n",
    "\n",
    "milkingplan(t,n=365) = vcat(trues(t), falses(n-t))\n",
    "\n",
    "results = Dict(\n",
    "    :bcs         => vcat(3.2, zeros(365)),\n",
    "    :maintenance => vcat(63, zeros(365)),\n",
    "    :lactation   => milkingplan(40 * 7),  # milk for 40 weeks\n",
    "    :supplement  => zeros(365),\n",
    "    :herbage     => zeros(365),\n",
    "    :milksolids  => zeros(365)\n",
    ")\n",
    "\n",
    "for day in 1:365\n",
    "    (new_bcs, new_maintenance, actual_herbage_intake, actual_supplement_intake, milksolids) = ECow.updateday!(\n",
    "        cow, day, results[:bcs][day], results[:maintenance][day], results[:lactation][day], supplement, herbage\n",
    "    )\n",
    "    results[:bcs][day+1]         = new_bcs\n",
    "    results[:maintenance][day+1] = new_maintenance\n",
    "    results[:supplement][day]    = actual_supplement_intake\n",
    "    results[:herbage][day]       = actual_herbage_intake\n",
    "    results[:milksolids][day]    = milksolids\n",
    "end\n",
    "\n",
    "println(\"Total Milk Production: $(sum(results[:milksolids]))\")\n",
    "println(\"Total Herbage Consumption: $(sum(results[:herbage]))\")\n",
    "println(\"Total PKE Consumption: $(sum(results[:supplement]))\")"
   ]
  },
  {
   "cell_type": "code",
   "execution_count": 78,
   "metadata": {},
   "outputs": [],
   "source": [
    "bcs_plot = plot(results[:bcs],\n",
    "    ylabel=\"BCS (Units)\",\n",
    "    title=\"(a)\",\n",
    "    ylims=(0,5)\n",
    ")\n",
    "\n",
    "mai_plot = plot(results[:maintenance],\n",
    "    ylabel=\"Maintenance (MJ/Day)\",\n",
    "    title=\"(b)\",\n",
    "    ylims=(50,80)\n",
    ")\n",
    "\n",
    "her_plot = plot(\n",
    "    ylabel=\"Feed Intake (kg/Day)\",\n",
    "    title=\"(c)\",\n",
    "    ylims=(0,14),\n",
    "    legend=:topleft\n",
    ")\n",
    "plot!(results[:herbage], label=\"Herbage\")\n",
    "plot!(results[:supplement], label=\"Supplement\", linestyle=:dash)\n",
    "\n",
    "mlk_plot = plot(results[:milksolids],\n",
    "    ylabel=\"Milk Solids (kg/Day)\",\n",
    "    title=\"(d)\",\n",
    "    ylims=(0,1.5)\n",
    ")\n",
    "\n",
    "plot(bcs_plot, mai_plot, her_plot, mlk_plot, size=(1000, 600))\n",
    "\n",
    "savefig(\"moo_example.pdf\")"
   ]
  }
 ],
 "metadata": {
  "kernelspec": {
   "display_name": "Julia 0.6.2",
   "language": "julia",
   "name": "julia-0.6"
  },
  "language_info": {
   "file_extension": ".jl",
   "mimetype": "application/julia",
   "name": "julia",
   "version": "0.6.2"
  }
 },
 "nbformat": 4,
 "nbformat_minor": 2
}
